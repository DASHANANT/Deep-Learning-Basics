{
 "cells": [
  {
   "cell_type": "code",
   "execution_count": 2,
   "id": "73106883",
   "metadata": {},
   "outputs": [],
   "source": [
    "import numpy as np\n",
    "import matplotlib.pyplot as plt"
   ]
  },
  {
   "cell_type": "markdown",
   "id": "8e370a89",
   "metadata": {},
   "source": [
    "## A sigmoid function \n",
    "it is a mathematical function having a characteristic \"S\"-shaped curve or sigmoid curve.\n",
    "a sigmoid function is the logistic function."
   ]
  },
  {
   "cell_type": "markdown",
   "id": "ef77ffaa",
   "metadata": {},
   "source": [
    "![](https://wikimedia.org/api/rest_v1/media/math/render/svg/f6f69aad495c133ff951475da3d2ac0de3a0f571)"
   ]
  },
  {
   "cell_type": "markdown",
   "id": "8f297c18",
   "metadata": {},
   "source": [
    "A sigmoid function is a \n",
    "bounded, \n",
    "differentiable, \n",
    "real function \n",
    "that is defined for all real input values and has a non-negative derivative at each point\n",
    "and exactly one inflection point.\n",
    "\n",
    "A sigmoid \"function\" and a sigmoid \"curve\" refer to the same object.\n",
    "\n",
    "Properties\n",
    "In general, a sigmoid function is monotonic, \n",
    "and has a first derivative which is bell shaped.\n",
    "Conversely, \n",
    "the integral of any continuous, \n",
    "non-negative,\n",
    "bell-shaped function (with one local maximum and no local minimum, unless degenerate) will be sigmoidal. \n",
    "Thus the cumulative distribution functions for many common probability distributions are sigmoidal. \n",
    "One such example is the error function, which is related to the cumulative distribution function of a normal distribution.\n"
   ]
  },
  {
   "cell_type": "code",
   "execution_count": 3,
   "id": "e6cb2673",
   "metadata": {},
   "outputs": [],
   "source": [
    "def sigmoid(x):\n",
    "    return 1 / (1+ np.exp(-x))\n",
    "    "
   ]
  },
  {
   "cell_type": "markdown",
   "id": "85becb2e",
   "metadata": {},
   "source": [
    "![](https://upload.wikimedia.org/wikipedia/commons/thumb/8/88/Logistic-curve.svg/1280px-Logistic-curve.svg.png)"
   ]
  }
 ],
 "metadata": {
  "kernelspec": {
   "display_name": "Python 3",
   "language": "python",
   "name": "python3"
  },
  "language_info": {
   "codemirror_mode": {
    "name": "ipython",
    "version": 3
   },
   "file_extension": ".py",
   "mimetype": "text/x-python",
   "name": "python",
   "nbconvert_exporter": "python",
   "pygments_lexer": "ipython3",
   "version": "3.8.8"
  }
 },
 "nbformat": 4,
 "nbformat_minor": 5
}
